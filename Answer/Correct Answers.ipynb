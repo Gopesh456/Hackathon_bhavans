{
 "cells": [
  {
   "cell_type": "code",
   "execution_count": null,
   "metadata": {},
   "outputs": [],
   "source": [
    "#Question 1\n",
    "# from hashlib import sha224\n",
    "\n",
    "\n",
    "def longestValidParentheses(s: str):\n",
    "        max_length = 0\n",
    "        stck=[-1] # initialize with a start index\n",
    "        for i in range(len(s)):\n",
    "            if s[i] == '(':\n",
    "                stck.append(i)\n",
    "            else:\n",
    "                stck.pop()\n",
    "                if not stck: # if popped -1, add a new start index\n",
    "                    stck.append(i)\n",
    "                else:\n",
    "                    max_length=max(max_length, i-stck[-1]) # update the length of the valid substring\n",
    "        return max_length\n",
    "s = input()\n",
    "\n",
    "print(longestValidParentheses(s)) #2\n"
   ]
  },
  {
   "cell_type": "code",
   "execution_count": null,
   "metadata": {},
   "outputs": [],
   "source": [
    "# Question 2\n",
    "def shortestPalindrome(s: str) -> str:\n",
    "    for i in range(len(s), -1, -1):\n",
    "        if s[:i] == s[i-1::-1]:\n",
    "            return s[:i-1:-1] + s\n",
    "        \n",
    "s = input()\n",
    "print(shortestPalindrome(s)) #AAABACAA"
   ]
  },
  {
   "cell_type": "code",
   "execution_count": 1,
   "metadata": {},
   "outputs": [
    {
     "name": "stdout",
     "output_type": "stream",
     "text": [
      "[[1, 2, 3], [1, 3, 2], [2, 1, 3], [2, 3, 1], [3, 1, 2], [3, 2, 1]]\n"
     ]
    }
   ],
   "source": [
    "#Question 3\n",
    "def permute(nums:list[int]):\n",
    "    ans = []\n",
    "    p = []\n",
    "    v = [False] * len(nums)\n",
    "    def backtrack():\n",
    "        if len(p) == len(nums):\n",
    "            ans.append(p[:])\n",
    "            return\n",
    "        for i in range(len(nums)):\n",
    "            if not v[i]:\n",
    "                v[i] = True\n",
    "                p.append(nums[i])\n",
    "                backtrack()\n",
    "                v[i] = False\n",
    "                p.pop()\n",
    "    backtrack()\n",
    "    return ans\n",
    "nums = eval(input())\n",
    "print(permute(nums)) \n"
   ]
  },
  {
   "cell_type": "code",
   "execution_count": null,
   "metadata": {},
   "outputs": [],
   "source": [
    "#Question 4\n",
    "#Integer to Roman\n",
    "def intToRoman(num: int) -> str:\n",
    "    roman = {1: 'I', 4: 'IV', 5: 'V', 9: 'IX', 10: 'X', 40: 'XL', 50: 'L', 90: 'XC', 100: 'C', 400: 'CD', 500: 'D', 900: 'CM', 1000: 'M'}\n",
    "    ans = []\n",
    "    for i in [1000, 900, 500, 400, 100, 90, 50, 40, 10, 9, 5, 4, 1]:\n",
    "        while num >= i:\n",
    "            ans.append(roman[i])\n",
    "            num -= i\n",
    "    return ''.join(ans)\n",
    "\n",
    "num1 = int(input())\n",
    "\n",
    "print(intToRoman(num1))  # Expected output: 'I'"
   ]
  },
  {
   "cell_type": "code",
   "execution_count": null,
   "metadata": {},
   "outputs": [],
   "source": [
    "#Question 5\n",
    "def findNthDigit(n: int) -> int:\n",
    "    digit = base = 1 # starting from 1 digit\n",
    "    while n > 9*base*digit: # upper limit of d digits\n",
    "        n -= 9*base*digit\n",
    "        digit += 1\n",
    "        base *= 10\n",
    "    q, r = divmod(n-1, digit)\n",
    "    return int(str(base + q)[r])\n",
    "\n",
    "print(findNthDigit(3))  # Expected output: 3\n",
    "print(findNthDigit(11))  # Expected output: 0\n",
    "print(findNthDigit(15))  # Expected output: 2\n"
   ]
  },
  {
   "cell_type": "code",
   "execution_count": 68,
   "metadata": {},
   "outputs": [
    {
     "name": "stdout",
     "output_type": "stream",
     "text": [
      "True\n"
     ]
    }
   ],
   "source": [
    "# question 6\n",
    "class Solution:\n",
    "    def isMatch(self,s, p):\n",
    "        m, n = len(s), len(p)\n",
    "        \n",
    "        # Initialize the DP table\n",
    "        dp = [[False] * (n + 1) for _ in range(m + 1)]\n",
    "        dp[0][0] = True  # Both s and p are empty\n",
    "        \n",
    "        # Initialize first row (s is empty)\n",
    "        for j in range(1, n + 1):\n",
    "            if p[j - 1] == '*':\n",
    "                dp[0][j] = dp[0][j - 2]  # '*' matches zero occurrence of the preceding element\n",
    "        \n",
    "        # Fill the DP table\n",
    "        for i in range(1, m + 1):\n",
    "            for j in range(1, n + 1):\n",
    "                if p[j - 1] == '.' or p[j - 1] == s[i - 1]:\n",
    "                    dp[i][j] = dp[i - 1][j - 1]\n",
    "                elif p[j - 1] == '*':\n",
    "                    dp[i][j] = dp[i][j - 2]  # '*' matches zero occurrence\n",
    "                    if p[j - 2] == '.' or p[j - 2] == s[i - 1]:\n",
    "                        dp[i][j] = dp[i][j] or dp[i - 1][j]\n",
    "        \n",
    "        return dp[m][n]\n",
    "    \n",
    "\n",
    "d = Solution()\n",
    "s = input()\n",
    "p = input()\n",
    "print(d.isMatch(s,p))  # Expected output: True"
   ]
  },
  {
   "cell_type": "code",
   "execution_count": null,
   "metadata": {},
   "outputs": [],
   "source": [
    "#question 7\n",
    "#Solving a system of three equations in three variables.\n",
    "def solve_system(coefficients, constants):\n",
    "    def det(a, b, c, d, e, f, g, h, i):\n",
    "        return a*e*i + b*f*g + c*d*h - a*f*h - b*d*i - c*e*g\n",
    "\n",
    "    a, b, c = coefficients\n",
    "    d = constants\n",
    "\n",
    "    D = det(a[0], a[1], a[2], b[0], b[1], b[2], c[0], c[1], c[2])\n",
    "    Dx = det(d[0][0], a[1], a[2], d[1][0], b[1], b[2], d[2][0], c[1], c[2])\n",
    "    Dy = det(a[0], d[0][0], a[2], b[0], d[1][0], b[2], c[0], d[2][0], c[2])\n",
    "    Dz = det(a[0], a[1], d[0][0], b[0], b[1], d[1][0], c[0], c[1], d[2][0])\n",
    "\n",
    "    if D != 0:\n",
    "        x = Dx / D\n",
    "        y = Dy / D\n",
    "        z = Dz / D\n",
    "        return [[int(x)], [int(y)], [int(z)]]\n",
    "    else:\n",
    "        return \"No unique solution\"\n",
    "\n",
    "# coefficients\n",
    "coefficients = eval(input())\n",
    "\n",
    "# constants\n",
    "constants =  eval(input())\n",
    "\n",
    "print(solve_system(coefficients, constants)) # Expected output: [[1], [2], [3]]\n"
   ]
  },
  {
   "cell_type": "code",
   "execution_count": null,
   "metadata": {},
   "outputs": [],
   "source": [
    "#question 8\n",
    "def getPermutation(n, k):\n",
    "    k -= 1\n",
    "\n",
    "    new, factorials = '', [1]\n",
    "    for i in range(1,1 + n):\n",
    "        new = new + str(i)\n",
    "        if i >= 2 and i < n:\n",
    "            factorials.append(i * factorials[-1])\n",
    "\n",
    "    def dfs(current, remaining, k):\n",
    "        if len(remaining) <= 1: return current + remaining\n",
    "        idx = k // factorials[-1]\n",
    "        \n",
    "        current = current + remaining[idx]\n",
    "        k -= idx * factorials.pop()\n",
    "        return dfs(current, remaining[:idx] + remaining[idx+1:], k)\n",
    "    return dfs('', new, k)\n",
    "\n",
    "n = int(input())\n",
    "k = int(input())\n",
    "print(getPermutation(n,k))  # Expected output: \"654321\""
   ]
  },
  {
   "cell_type": "code",
   "execution_count": null,
   "metadata": {},
   "outputs": [],
   "source": [
    "# Question 9\n",
    "class Solution(object):\n",
    "    def isIsomorphic(self, s, t):\n",
    "        \"\"\"\n",
    "        :type s: str\n",
    "        :type t: str\n",
    "        :rtype: bool\n",
    "        \"\"\"\n",
    "        return len(set(zip(s,t))) == len(set(s)) == len(set(t))\n",
    "\n",
    "\n",
    "s = \"egg\"\n",
    "t = \"add\"\n",
    "print(Solution().isIsomorphic(s, t)) # True"
   ]
  },
  {
   "cell_type": "code",
   "execution_count": 77,
   "metadata": {},
   "outputs": [
    {
     "name": "stdout",
     "output_type": "stream",
     "text": [
      "45\n"
     ]
    }
   ],
   "source": [
    "#Question 10\n",
    "def originalDigits(s: str):\n",
    "        char_counts = {}\n",
    "        for c in s:\n",
    "            if c in char_counts:\n",
    "                char_counts[c] += 1\n",
    "            else:\n",
    "                char_counts[c] = 1\n",
    "               \n",
    "        digit_counts = [0] * 10\n",
    "       \n",
    "        digit_counts[0] = char_counts.get('z', 0)\n",
    "        digit_counts[2] = char_counts.get('w', 0)\n",
    "        digit_counts[4] = char_counts.get('u', 0)\n",
    "        digit_counts[6] = char_counts.get('x', 0)\n",
    "        digit_counts[8] = char_counts.get('g', 0)\n",
    "       \n",
    "        digit_counts[1] = char_counts.get('o', 0) - digit_counts[0] - digit_counts[2] - digit_counts[4]\n",
    "        digit_counts[3] = char_counts.get('h', 0) - digit_counts[8]\n",
    "        digit_counts[5] = char_counts.get('f', 0) - digit_counts[4]\n",
    "        digit_counts[7] = char_counts.get('s', 0) - digit_counts[6]\n",
    "        digit_counts[9] = char_counts.get('i', 0) - digit_counts[5] - digit_counts[6] - digit_counts[8]\n",
    "       \n",
    "        return ''.join(str(i) * digit_counts[i] for i in range(10))\n",
    "\n",
    "s = input()\n",
    "print(originalDigits(s))  "
   ]
  }
 ],
 "metadata": {
  "kernelspec": {
   "display_name": "Python 3",
   "language": "python",
   "name": "python3"
  },
  "language_info": {
   "codemirror_mode": {
    "name": "ipython",
    "version": 3
   },
   "file_extension": ".py",
   "mimetype": "text/x-python",
   "name": "python",
   "nbconvert_exporter": "python",
   "pygments_lexer": "ipython3",
   "version": "3.12.3"
  }
 },
 "nbformat": 4,
 "nbformat_minor": 2
}
